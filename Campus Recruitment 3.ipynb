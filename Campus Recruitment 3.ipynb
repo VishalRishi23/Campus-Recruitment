{
 "cells": [
  {
   "cell_type": "code",
   "execution_count": 1,
   "metadata": {},
   "outputs": [],
   "source": [
    "import numpy as np\n",
    "import pandas as pd\n",
    "import matplotlib.pyplot as plt\n",
    "import tensorflow as tf\n",
    "from tensorflow import keras\n",
    "import sweetviz as sw\n",
    "import seaborn as sns\n",
    "sns.set()"
   ]
  },
  {
   "cell_type": "code",
   "execution_count": 2,
   "metadata": {},
   "outputs": [],
   "source": [
    "num_columns=[ 'ssc_p', 'hsc_p', 'degree_p',\n",
    "       'etest_p', 'mba_p']\n",
    "cat_columns=['gender', 'ssc_b', 'hsc_b','Arts', 'Commerce', 'Comm&Mgmt', 'Sci&Tech', 'workex', 'specialisation']"
   ]
  },
  {
   "cell_type": "code",
   "execution_count": 3,
   "metadata": {},
   "outputs": [
    {
     "data": {
      "text/html": [
       "<div>\n",
       "<style scoped>\n",
       "    .dataframe tbody tr th:only-of-type {\n",
       "        vertical-align: middle;\n",
       "    }\n",
       "\n",
       "    .dataframe tbody tr th {\n",
       "        vertical-align: top;\n",
       "    }\n",
       "\n",
       "    .dataframe thead th {\n",
       "        text-align: right;\n",
       "    }\n",
       "</style>\n",
       "<table border=\"1\" class=\"dataframe\">\n",
       "  <thead>\n",
       "    <tr style=\"text-align: right;\">\n",
       "      <th></th>\n",
       "      <th>gender</th>\n",
       "      <th>ssc_p</th>\n",
       "      <th>ssc_b</th>\n",
       "      <th>hsc_p</th>\n",
       "      <th>hsc_b</th>\n",
       "      <th>hsc_s</th>\n",
       "      <th>degree_p</th>\n",
       "      <th>degree_t</th>\n",
       "      <th>workex</th>\n",
       "      <th>etest_p</th>\n",
       "      <th>specialisation</th>\n",
       "      <th>mba_p</th>\n",
       "      <th>status</th>\n",
       "    </tr>\n",
       "  </thead>\n",
       "  <tbody>\n",
       "    <tr>\n",
       "      <th>0</th>\n",
       "      <td>M</td>\n",
       "      <td>0.6700</td>\n",
       "      <td>Others</td>\n",
       "      <td>0.9100</td>\n",
       "      <td>Others</td>\n",
       "      <td>Commerce</td>\n",
       "      <td>0.5800</td>\n",
       "      <td>Sci&amp;Tech</td>\n",
       "      <td>No</td>\n",
       "      <td>0.550</td>\n",
       "      <td>Mkt&amp;HR</td>\n",
       "      <td>0.5880</td>\n",
       "      <td>1</td>\n",
       "    </tr>\n",
       "    <tr>\n",
       "      <th>1</th>\n",
       "      <td>M</td>\n",
       "      <td>0.7933</td>\n",
       "      <td>Central</td>\n",
       "      <td>0.7833</td>\n",
       "      <td>Others</td>\n",
       "      <td>Science</td>\n",
       "      <td>0.7748</td>\n",
       "      <td>Sci&amp;Tech</td>\n",
       "      <td>Yes</td>\n",
       "      <td>0.865</td>\n",
       "      <td>Mkt&amp;Fin</td>\n",
       "      <td>0.6628</td>\n",
       "      <td>1</td>\n",
       "    </tr>\n",
       "    <tr>\n",
       "      <th>2</th>\n",
       "      <td>M</td>\n",
       "      <td>0.6500</td>\n",
       "      <td>Central</td>\n",
       "      <td>0.6800</td>\n",
       "      <td>Central</td>\n",
       "      <td>Arts</td>\n",
       "      <td>0.6400</td>\n",
       "      <td>Comm&amp;Mgmt</td>\n",
       "      <td>No</td>\n",
       "      <td>0.750</td>\n",
       "      <td>Mkt&amp;Fin</td>\n",
       "      <td>0.5780</td>\n",
       "      <td>1</td>\n",
       "    </tr>\n",
       "    <tr>\n",
       "      <th>3</th>\n",
       "      <td>M</td>\n",
       "      <td>0.5600</td>\n",
       "      <td>Central</td>\n",
       "      <td>0.5200</td>\n",
       "      <td>Central</td>\n",
       "      <td>Science</td>\n",
       "      <td>0.5200</td>\n",
       "      <td>Sci&amp;Tech</td>\n",
       "      <td>No</td>\n",
       "      <td>0.660</td>\n",
       "      <td>Mkt&amp;HR</td>\n",
       "      <td>0.5943</td>\n",
       "      <td>0</td>\n",
       "    </tr>\n",
       "    <tr>\n",
       "      <th>4</th>\n",
       "      <td>M</td>\n",
       "      <td>0.8580</td>\n",
       "      <td>Central</td>\n",
       "      <td>0.7360</td>\n",
       "      <td>Central</td>\n",
       "      <td>Commerce</td>\n",
       "      <td>0.7330</td>\n",
       "      <td>Comm&amp;Mgmt</td>\n",
       "      <td>No</td>\n",
       "      <td>0.968</td>\n",
       "      <td>Mkt&amp;Fin</td>\n",
       "      <td>0.5550</td>\n",
       "      <td>1</td>\n",
       "    </tr>\n",
       "  </tbody>\n",
       "</table>\n",
       "</div>"
      ],
      "text/plain": [
       "  gender   ssc_p    ssc_b   hsc_p    hsc_b     hsc_s  degree_p   degree_t  \\\n",
       "0      M  0.6700   Others  0.9100   Others  Commerce    0.5800   Sci&Tech   \n",
       "1      M  0.7933  Central  0.7833   Others   Science    0.7748   Sci&Tech   \n",
       "2      M  0.6500  Central  0.6800  Central      Arts    0.6400  Comm&Mgmt   \n",
       "3      M  0.5600  Central  0.5200  Central   Science    0.5200   Sci&Tech   \n",
       "4      M  0.8580  Central  0.7360  Central  Commerce    0.7330  Comm&Mgmt   \n",
       "\n",
       "  workex  etest_p specialisation   mba_p  status  \n",
       "0     No    0.550         Mkt&HR  0.5880       1  \n",
       "1    Yes    0.865        Mkt&Fin  0.6628       1  \n",
       "2     No    0.750        Mkt&Fin  0.5780       1  \n",
       "3     No    0.660         Mkt&HR  0.5943       0  \n",
       "4     No    0.968        Mkt&Fin  0.5550       1  "
      ]
     },
     "execution_count": 3,
     "metadata": {},
     "output_type": "execute_result"
    }
   ],
   "source": [
    "data=pd.read_csv('Placement.csv')\n",
    "data=data.drop(['sl_no','salary'],axis=1)\n",
    "data['status']=data['status'].map({'Placed':1,'Not Placed':0})\n",
    "data[num_columns]=data[num_columns].apply(lambda x: x/100.)\n",
    "data.head()"
   ]
  },
  {
   "cell_type": "code",
   "execution_count": 4,
   "metadata": {},
   "outputs": [
    {
     "data": {
      "text/plain": [
       "<matplotlib.collections.PathCollection at 0x27b741fcd08>"
      ]
     },
     "execution_count": 4,
     "metadata": {},
     "output_type": "execute_result"
    },
    {
     "data": {
      "image/png": "[encoded data removed]",
      "text/plain": [
       "<Figure size 432x288 with 1 Axes>"
      ]
     },
     "metadata": {
      "needs_background": "light"
     },
     "output_type": "display_data"
    }
   ],
   "source": [
    "plt.scatter(data['mba_p'],data['status'])\n",
    "plt.scatter(np.log(data['mba_p']),data['status'])"
   ]
  },
  {
   "cell_type": "code",
   "execution_count": 5,
   "metadata": {},
   "outputs": [
    {
     "data": {
      "text/plain": [
       "1    148\n",
       "0     67\n",
       "Name: status, dtype: int64"
      ]
     },
     "execution_count": 5,
     "metadata": {},
     "output_type": "execute_result"
    }
   ],
   "source": [
    "data['status'].value_counts()"
   ]
  },
  {
   "cell_type": "code",
   "execution_count": 6,
   "metadata": {},
   "outputs": [
    {
     "data": {
      "text/html": [
       "<div>\n",
       "<style scoped>\n",
       "    .dataframe tbody tr th:only-of-type {\n",
       "        vertical-align: middle;\n",
       "    }\n",
       "\n",
       "    .dataframe tbody tr th {\n",
       "        vertical-align: top;\n",
       "    }\n",
       "\n",
       "    .dataframe thead th {\n",
       "        text-align: right;\n",
       "    }\n",
       "</style>\n",
       "<table border=\"1\" class=\"dataframe\">\n",
       "  <thead>\n",
       "    <tr style=\"text-align: right;\">\n",
       "      <th></th>\n",
       "      <th>ssc_p</th>\n",
       "      <th>hsc_p</th>\n",
       "      <th>degree_p</th>\n",
       "      <th>etest_p</th>\n",
       "      <th>mba_p</th>\n",
       "      <th>gender</th>\n",
       "      <th>ssc_b</th>\n",
       "      <th>hsc_b</th>\n",
       "      <th>Arts</th>\n",
       "      <th>Commerce</th>\n",
       "      <th>Comm&amp;Mgmt</th>\n",
       "      <th>Sci&amp;Tech</th>\n",
       "      <th>workex</th>\n",
       "      <th>specialisation</th>\n",
       "      <th>status</th>\n",
       "    </tr>\n",
       "  </thead>\n",
       "  <tbody>\n",
       "    <tr>\n",
       "      <th>0</th>\n",
       "      <td>0.6700</td>\n",
       "      <td>0.9100</td>\n",
       "      <td>0.5800</td>\n",
       "      <td>0.550</td>\n",
       "      <td>0.5880</td>\n",
       "      <td>0</td>\n",
       "      <td>0</td>\n",
       "      <td>0</td>\n",
       "      <td>0</td>\n",
       "      <td>1</td>\n",
       "      <td>0</td>\n",
       "      <td>1</td>\n",
       "      <td>1</td>\n",
       "      <td>0</td>\n",
       "      <td>1</td>\n",
       "    </tr>\n",
       "    <tr>\n",
       "      <th>1</th>\n",
       "      <td>0.7933</td>\n",
       "      <td>0.7833</td>\n",
       "      <td>0.7748</td>\n",
       "      <td>0.865</td>\n",
       "      <td>0.6628</td>\n",
       "      <td>0</td>\n",
       "      <td>1</td>\n",
       "      <td>0</td>\n",
       "      <td>0</td>\n",
       "      <td>0</td>\n",
       "      <td>0</td>\n",
       "      <td>1</td>\n",
       "      <td>0</td>\n",
       "      <td>1</td>\n",
       "      <td>1</td>\n",
       "    </tr>\n",
       "    <tr>\n",
       "      <th>2</th>\n",
       "      <td>0.6500</td>\n",
       "      <td>0.6800</td>\n",
       "      <td>0.6400</td>\n",
       "      <td>0.750</td>\n",
       "      <td>0.5780</td>\n",
       "      <td>0</td>\n",
       "      <td>1</td>\n",
       "      <td>1</td>\n",
       "      <td>1</td>\n",
       "      <td>0</td>\n",
       "      <td>1</td>\n",
       "      <td>0</td>\n",
       "      <td>1</td>\n",
       "      <td>1</td>\n",
       "      <td>1</td>\n",
       "    </tr>\n",
       "    <tr>\n",
       "      <th>3</th>\n",
       "      <td>0.5600</td>\n",
       "      <td>0.5200</td>\n",
       "      <td>0.5200</td>\n",
       "      <td>0.660</td>\n",
       "      <td>0.5943</td>\n",
       "      <td>0</td>\n",
       "      <td>1</td>\n",
       "      <td>1</td>\n",
       "      <td>0</td>\n",
       "      <td>0</td>\n",
       "      <td>0</td>\n",
       "      <td>1</td>\n",
       "      <td>1</td>\n",
       "      <td>0</td>\n",
       "      <td>0</td>\n",
       "    </tr>\n",
       "    <tr>\n",
       "      <th>4</th>\n",
       "      <td>0.8580</td>\n",
       "      <td>0.7360</td>\n",
       "      <td>0.7330</td>\n",
       "      <td>0.968</td>\n",
       "      <td>0.5550</td>\n",
       "      <td>0</td>\n",
       "      <td>1</td>\n",
       "      <td>1</td>\n",
       "      <td>0</td>\n",
       "      <td>1</td>\n",
       "      <td>1</td>\n",
       "      <td>0</td>\n",
       "      <td>1</td>\n",
       "      <td>1</td>\n",
       "      <td>1</td>\n",
       "    </tr>\n",
       "  </tbody>\n",
       "</table>\n",
       "</div>"
      ],
      "text/plain": [
       "    ssc_p   hsc_p  degree_p  etest_p   mba_p  gender  ssc_b  hsc_b  Arts  \\\n",
       "0  0.6700  0.9100    0.5800    0.550  0.5880       0      0      0     0   \n",
       "1  0.7933  0.7833    0.7748    0.865  0.6628       0      1      0     0   \n",
       "2  0.6500  0.6800    0.6400    0.750  0.5780       0      1      1     1   \n",
       "3  0.5600  0.5200    0.5200    0.660  0.5943       0      1      1     0   \n",
       "4  0.8580  0.7360    0.7330    0.968  0.5550       0      1      1     0   \n",
       "\n",
       "   Commerce  Comm&Mgmt  Sci&Tech  workex  specialisation  status  \n",
       "0         1          0         1       1               0       1  \n",
       "1         0          0         1       0               1       1  \n",
       "2         0          1         0       1               1       1  \n",
       "3         0          0         1       1               0       0  \n",
       "4         1          1         0       1               1       1  "
      ]
     },
     "execution_count": 6,
     "metadata": {},
     "output_type": "execute_result"
    }
   ],
   "source": [
    "data['gender']=data['gender'].map({'M':0,'F':1})\n",
    "data['ssc_b']=data['ssc_b'].map({'Others':0,'Central':1})\n",
    "data['hsc_b']=data['hsc_b'].map({'Others':0,'Central':1})\n",
    "data['workex']=data['workex'].map({'Yes':0,'No':1})\n",
    "data['specialisation']=data['specialisation'].map({'Mkt&HR':0,'Mkt&Fin':1})\n",
    "dummy_1=data['hsc_s'].str.get_dummies().drop(['Science'],axis=1)\n",
    "dummy_2=data['degree_t'].str.get_dummies().drop(['Others'],axis=1)\n",
    "data=data.drop(['hsc_s','degree_t'],axis=1)\n",
    "data=pd.concat([data,dummy_1,dummy_2],axis=1)\n",
    "data=data[num_columns+cat_columns+['status']]\n",
    "data.head()"
   ]
  },
  {
   "cell_type": "code",
   "execution_count": 7,
   "metadata": {},
   "outputs": [],
   "source": [
    "numerical=data[num_columns]\n",
    "categorical=data[cat_columns]\n",
    "targets=data['status']\n",
    "mean=targets.mean()\n",
    "std=targets.std()"
   ]
  },
  {
   "cell_type": "code",
   "execution_count": 8,
   "metadata": {},
   "outputs": [
    {
     "data": {
      "text/html": [
       "<div>\n",
       "<style scoped>\n",
       "    .dataframe tbody tr th:only-of-type {\n",
       "        vertical-align: middle;\n",
       "    }\n",
       "\n",
       "    .dataframe tbody tr th {\n",
       "        vertical-align: top;\n",
       "    }\n",
       "\n",
       "    .dataframe thead th {\n",
       "        text-align: right;\n",
       "    }\n",
       "</style>\n",
       "<table border=\"1\" class=\"dataframe\">\n",
       "  <thead>\n",
       "    <tr style=\"text-align: right;\">\n",
       "      <th></th>\n",
       "      <th>ssc_p</th>\n",
       "      <th>hsc_p</th>\n",
       "      <th>degree_p</th>\n",
       "      <th>etest_p</th>\n",
       "      <th>mba_p</th>\n",
       "      <th>gender</th>\n",
       "      <th>ssc_b</th>\n",
       "      <th>hsc_b</th>\n",
       "      <th>Arts</th>\n",
       "      <th>Commerce</th>\n",
       "      <th>Comm&amp;Mgmt</th>\n",
       "      <th>Sci&amp;Tech</th>\n",
       "      <th>workex</th>\n",
       "      <th>specialisation</th>\n",
       "    </tr>\n",
       "  </thead>\n",
       "  <tbody>\n",
       "    <tr>\n",
       "      <th>0</th>\n",
       "      <td>-0.028087</td>\n",
       "      <td>2.268812</td>\n",
       "      <td>-1.140102</td>\n",
       "      <td>-1.291091</td>\n",
       "      <td>-0.597647</td>\n",
       "      <td>0</td>\n",
       "      <td>0</td>\n",
       "      <td>0</td>\n",
       "      <td>0</td>\n",
       "      <td>1</td>\n",
       "      <td>0</td>\n",
       "      <td>1</td>\n",
       "      <td>1</td>\n",
       "      <td>0</td>\n",
       "    </tr>\n",
       "    <tr>\n",
       "      <th>1</th>\n",
       "      <td>1.113369</td>\n",
       "      <td>1.103448</td>\n",
       "      <td>1.513267</td>\n",
       "      <td>1.087157</td>\n",
       "      <td>0.687620</td>\n",
       "      <td>0</td>\n",
       "      <td>1</td>\n",
       "      <td>0</td>\n",
       "      <td>0</td>\n",
       "      <td>0</td>\n",
       "      <td>0</td>\n",
       "      <td>1</td>\n",
       "      <td>0</td>\n",
       "      <td>1</td>\n",
       "    </tr>\n",
       "    <tr>\n",
       "      <th>2</th>\n",
       "      <td>-0.213238</td>\n",
       "      <td>0.153313</td>\n",
       "      <td>-0.322843</td>\n",
       "      <td>0.218908</td>\n",
       "      <td>-0.769474</td>\n",
       "      <td>0</td>\n",
       "      <td>1</td>\n",
       "      <td>1</td>\n",
       "      <td>1</td>\n",
       "      <td>0</td>\n",
       "      <td>1</td>\n",
       "      <td>0</td>\n",
       "      <td>1</td>\n",
       "      <td>1</td>\n",
       "    </tr>\n",
       "    <tr>\n",
       "      <th>3</th>\n",
       "      <td>-1.046417</td>\n",
       "      <td>-1.318339</td>\n",
       "      <td>-1.957362</td>\n",
       "      <td>-0.460592</td>\n",
       "      <td>-0.489396</td>\n",
       "      <td>0</td>\n",
       "      <td>1</td>\n",
       "      <td>1</td>\n",
       "      <td>0</td>\n",
       "      <td>0</td>\n",
       "      <td>0</td>\n",
       "      <td>1</td>\n",
       "      <td>1</td>\n",
       "      <td>0</td>\n",
       "    </tr>\n",
       "    <tr>\n",
       "      <th>4</th>\n",
       "      <td>1.712332</td>\n",
       "      <td>0.668391</td>\n",
       "      <td>0.943909</td>\n",
       "      <td>1.864806</td>\n",
       "      <td>-1.164676</td>\n",
       "      <td>0</td>\n",
       "      <td>1</td>\n",
       "      <td>1</td>\n",
       "      <td>0</td>\n",
       "      <td>1</td>\n",
       "      <td>1</td>\n",
       "      <td>0</td>\n",
       "      <td>1</td>\n",
       "      <td>1</td>\n",
       "    </tr>\n",
       "  </tbody>\n",
       "</table>\n",
       "</div>"
      ],
      "text/plain": [
       "      ssc_p     hsc_p  degree_p   etest_p     mba_p  gender  ssc_b  hsc_b  \\\n",
       "0 -0.028087  2.268812 -1.140102 -1.291091 -0.597647       0      0      0   \n",
       "1  1.113369  1.103448  1.513267  1.087157  0.687620       0      1      0   \n",
       "2 -0.213238  0.153313 -0.322843  0.218908 -0.769474       0      1      1   \n",
       "3 -1.046417 -1.318339 -1.957362 -0.460592 -0.489396       0      1      1   \n",
       "4  1.712332  0.668391  0.943909  1.864806 -1.164676       0      1      1   \n",
       "\n",
       "   Arts  Commerce  Comm&Mgmt  Sci&Tech  workex  specialisation  \n",
       "0     0         1          0         1       1               0  \n",
       "1     0         0          0         1       0               1  \n",
       "2     1         0          1         0       1               1  \n",
       "3     0         0          0         1       1               0  \n",
       "4     0         1          1         0       1               1  "
      ]
     },
     "execution_count": 8,
     "metadata": {},
     "output_type": "execute_result"
    }
   ],
   "source": [
    "from sklearn.preprocessing import StandardScaler\n",
    "scaler=StandardScaler()\n",
    "numerical=scaler.fit_transform(numerical)\n",
    "numerical=pd.DataFrame(data=numerical,columns=num_columns)\n",
    "data=pd.concat([numerical,categorical],axis=1)\n",
    "data.head()"
   ]
  },
  {
   "cell_type": "code",
   "execution_count": 9,
   "metadata": {},
   "outputs": [],
   "source": [
    "from sklearn.model_selection import train_test_split\n",
    "Xtrain,Xtest,ytrain,ytest=train_test_split(data,targets,test_size=(0.1),random_state=42)\n",
    "#Xtrain,Xval,ytrain,yval=train_test_split(Xtrain,ytrain,test_size=(297./2675.),random_state=43)"
   ]
  },
  {
   "cell_type": "code",
   "execution_count": 16,
   "metadata": {},
   "outputs": [
    {
     "data": {
      "text/plain": [
       "LogisticRegression(C=1.0, class_weight=None, dual=False, fit_intercept=True,\n",
       "                   intercept_scaling=1, l1_ratio=None, max_iter=100,\n",
       "                   multi_class='warn', n_jobs=None, penalty='none',\n",
       "                   random_state=None, solver='lbfgs', tol=0.0001, verbose=0,\n",
       "                   warm_start=False)"
      ]
     },
     "execution_count": 16,
     "metadata": {},
     "output_type": "execute_result"
    }
   ],
   "source": [
    "from sklearn.linear_model import LogisticRegression\n",
    "log=LogisticRegression(solver='lbfgs',penalty='none')\n",
    "log.fit(Xtrain,ytrain)"
   ]
  },
  {
   "cell_type": "code",
   "execution_count": 21,
   "metadata": {},
   "outputs": [
    {
     "name": "stdout",
     "output_type": "stream",
     "text": [
      "[[ 5  2]\n",
      " [ 2 13]]\n"
     ]
    },
    {
     "data": {
      "text/plain": [
       "<matplotlib.image.AxesImage at 0x27b7491fe48>"
      ]
     },
     "execution_count": 21,
     "metadata": {},
     "output_type": "execute_result"
    },
    {
     "data": {
      "image/png": "[encoded data removed]",
      "text/plain": [
       "<Figure size 288x288 with 1 Axes>"
      ]
     },
     "metadata": {
      "needs_background": "light"
     },
     "output_type": "display_data"
    }
   ],
   "source": [
    "from sklearn.metrics import confusion_matrix\n",
    "cm=confusion_matrix(ytest,log.predict(Xtest))\n",
    "print(cm)\n",
    "plt.matshow(cm,cmap=plt.cm.gray)"
   ]
  },
  {
   "cell_type": "code",
   "execution_count": 20,
   "metadata": {},
   "outputs": [
    {
     "name": "stdout",
     "output_type": "stream",
     "text": [
      "0.8666666666666667\n",
      "0.8666666666666667\n",
      "0.8666666666666667\n"
     ]
    }
   ],
   "source": [
    "from sklearn.metrics import precision_score,recall_score,f1_score\n",
    "print(precision_score(ytest,log.predict(Xtest)))\n",
    "print(recall_score(ytest,log.predict(Xtest)))\n",
    "print(f1_score(ytest,log.predict(Xtest)))"
   ]
  },
  {
   "cell_type": "code",
   "execution_count": 25,
   "metadata": {},
   "outputs": [
    {
     "name": "stdout",
     "output_type": "stream",
     "text": [
      "0.7904761904761906\n"
     ]
    },
    {
     "data": {
      "image/png": "[encoded data removed]",
      "text/plain": [
       "<Figure size 432x288 with 1 Axes>"
      ]
     },
     "metadata": {
      "needs_background": "light"
     },
     "output_type": "display_data"
    }
   ],
   "source": [
    "from sklearn.metrics import roc_curve,roc_auc_score\n",
    "fpr,tpr,thresholds=roc_curve(ytest,log.predict(Xtest))\n",
    "plt.plot(fpr,tpr,linewidth=2)\n",
    "plt.plot([0,0],[1,1],'k--')\n",
    "print(roc_auc_score(ytest,log.predict(Xtest)))"
   ]
  },
  {
   "cell_type": "code",
   "execution_count": 26,
   "metadata": {},
   "outputs": [
    {
     "data": {
      "text/plain": [
       "array([4.21502998])"
      ]
     },
     "execution_count": 26,
     "metadata": {},
     "output_type": "execute_result"
    }
   ],
   "source": [
    "log.intercept_"
   ]
  },
  {
   "cell_type": "code",
   "execution_count": 30,
   "metadata": {},
   "outputs": [
    {
     "data": {
      "text/html": [
       "<div>\n",
       "<style scoped>\n",
       "    .dataframe tbody tr th:only-of-type {\n",
       "        vertical-align: middle;\n",
       "    }\n",
       "\n",
       "    .dataframe tbody tr th {\n",
       "        vertical-align: top;\n",
       "    }\n",
       "\n",
       "    .dataframe thead th {\n",
       "        text-align: right;\n",
       "    }\n",
       "</style>\n",
       "<table border=\"1\" class=\"dataframe\">\n",
       "  <thead>\n",
       "    <tr style=\"text-align: right;\">\n",
       "      <th></th>\n",
       "      <th>Weights</th>\n",
       "      <th>Insight</th>\n",
       "    </tr>\n",
       "  </thead>\n",
       "  <tbody>\n",
       "    <tr>\n",
       "      <th>ssc_p</th>\n",
       "      <td>2.937036</td>\n",
       "      <td>18.859861</td>\n",
       "    </tr>\n",
       "    <tr>\n",
       "      <th>hsc_p</th>\n",
       "      <td>1.400232</td>\n",
       "      <td>4.056140</td>\n",
       "    </tr>\n",
       "    <tr>\n",
       "      <th>degree_p</th>\n",
       "      <td>1.629857</td>\n",
       "      <td>5.103146</td>\n",
       "    </tr>\n",
       "    <tr>\n",
       "      <th>etest_p</th>\n",
       "      <td>-0.341825</td>\n",
       "      <td>0.710472</td>\n",
       "    </tr>\n",
       "    <tr>\n",
       "      <th>mba_p</th>\n",
       "      <td>-1.387954</td>\n",
       "      <td>0.249586</td>\n",
       "    </tr>\n",
       "    <tr>\n",
       "      <th>gender</th>\n",
       "      <td>-1.945794</td>\n",
       "      <td>0.142874</td>\n",
       "    </tr>\n",
       "    <tr>\n",
       "      <th>ssc_b</th>\n",
       "      <td>-0.318431</td>\n",
       "      <td>0.727289</td>\n",
       "    </tr>\n",
       "    <tr>\n",
       "      <th>hsc_b</th>\n",
       "      <td>-0.002812</td>\n",
       "      <td>0.997192</td>\n",
       "    </tr>\n",
       "    <tr>\n",
       "      <th>Arts</th>\n",
       "      <td>1.311364</td>\n",
       "      <td>3.711233</td>\n",
       "    </tr>\n",
       "    <tr>\n",
       "      <th>Commerce</th>\n",
       "      <td>-0.773311</td>\n",
       "      <td>0.461483</td>\n",
       "    </tr>\n",
       "    <tr>\n",
       "      <th>Comm&amp;Mgmt</th>\n",
       "      <td>0.757082</td>\n",
       "      <td>2.132047</td>\n",
       "    </tr>\n",
       "    <tr>\n",
       "      <th>Sci&amp;Tech</th>\n",
       "      <td>-1.113215</td>\n",
       "      <td>0.328501</td>\n",
       "    </tr>\n",
       "    <tr>\n",
       "      <th>workex</th>\n",
       "      <td>-1.638546</td>\n",
       "      <td>0.194262</td>\n",
       "    </tr>\n",
       "    <tr>\n",
       "      <th>specialisation</th>\n",
       "      <td>0.316458</td>\n",
       "      <td>1.372259</td>\n",
       "    </tr>\n",
       "  </tbody>\n",
       "</table>\n",
       "</div>"
      ],
      "text/plain": [
       "                 Weights    Insight\n",
       "ssc_p           2.937036  18.859861\n",
       "hsc_p           1.400232   4.056140\n",
       "degree_p        1.629857   5.103146\n",
       "etest_p        -0.341825   0.710472\n",
       "mba_p          -1.387954   0.249586\n",
       "gender         -1.945794   0.142874\n",
       "ssc_b          -0.318431   0.727289\n",
       "hsc_b          -0.002812   0.997192\n",
       "Arts            1.311364   3.711233\n",
       "Commerce       -0.773311   0.461483\n",
       "Comm&Mgmt       0.757082   2.132047\n",
       "Sci&Tech       -1.113215   0.328501\n",
       "workex         -1.638546   0.194262\n",
       "specialisation  0.316458   1.372259"
      ]
     },
     "execution_count": 30,
     "metadata": {},
     "output_type": "execute_result"
    }
   ],
   "source": [
    "weights=pd.DataFrame(data=log.coef_.reshape(-1,1),index=list(data.columns),columns=['Weights'])\n",
    "weights['Insight']=np.exp(weights['Weights'])\n",
    "weights"
   ]
  },
  {
   "cell_type": "code",
   "execution_count": null,
   "metadata": {},
   "outputs": [],
   "source": []
  }
 ],
 "metadata": {
  "kernelspec": {
   "display_name": "Python 3",
   "language": "python",
   "name": "python3"
  },
  "language_info": {
   "codemirror_mode": {
    "name": "ipython",
    "version": 3
   },
   "file_extension": ".py",
   "mimetype": "text/x-python",
   "name": "python",
   "nbconvert_exporter": "python",
   "pygments_lexer": "ipython3",
   "version": "3.7.4"
  }
 },
 "nbformat": 4,
 "nbformat_minor": 2
}
