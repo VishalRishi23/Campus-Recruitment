{
 "cells": [
  {
   "cell_type": "code",
   "execution_count": 1,
   "metadata": {},
   "outputs": [],
   "source": [
    "import numpy as np\n",
    "import pandas as pd\n",
    "import matplotlib.pyplot as plt\n",
    "import tensorflow as tf\n",
    "from tensorflow import keras\n",
    "import sweetviz as sw\n",
    "import seaborn as sns\n",
    "sns.set()"
   ]
  },
  {
   "cell_type": "code",
   "execution_count": 137,
   "metadata": {},
   "outputs": [
    {
     "data": {
      "text/html": [
       "<div>\n",
       "<style scoped>\n",
       "    .dataframe tbody tr th:only-of-type {\n",
       "        vertical-align: middle;\n",
       "    }\n",
       "\n",
       "    .dataframe tbody tr th {\n",
       "        vertical-align: top;\n",
       "    }\n",
       "\n",
       "    .dataframe thead th {\n",
       "        text-align: right;\n",
       "    }\n",
       "</style>\n",
       "<table border=\"1\" class=\"dataframe\">\n",
       "  <thead>\n",
       "    <tr style=\"text-align: right;\">\n",
       "      <th></th>\n",
       "      <th>gender</th>\n",
       "      <th>ssc_p</th>\n",
       "      <th>ssc_b</th>\n",
       "      <th>hsc_p</th>\n",
       "      <th>hsc_b</th>\n",
       "      <th>hsc_s</th>\n",
       "      <th>degree_p</th>\n",
       "      <th>degree_t</th>\n",
       "      <th>workex</th>\n",
       "      <th>etest_p</th>\n",
       "      <th>specialisation</th>\n",
       "      <th>mba_p</th>\n",
       "      <th>salary</th>\n",
       "    </tr>\n",
       "  </thead>\n",
       "  <tbody>\n",
       "    <tr>\n",
       "      <th>0</th>\n",
       "      <td>M</td>\n",
       "      <td>67.00</td>\n",
       "      <td>Others</td>\n",
       "      <td>91.00</td>\n",
       "      <td>Others</td>\n",
       "      <td>Commerce</td>\n",
       "      <td>58.00</td>\n",
       "      <td>Sci&amp;Tech</td>\n",
       "      <td>No</td>\n",
       "      <td>55.0</td>\n",
       "      <td>Mkt&amp;HR</td>\n",
       "      <td>58.80</td>\n",
       "      <td>270000.000000</td>\n",
       "    </tr>\n",
       "    <tr>\n",
       "      <th>1</th>\n",
       "      <td>M</td>\n",
       "      <td>79.33</td>\n",
       "      <td>Central</td>\n",
       "      <td>78.33</td>\n",
       "      <td>Others</td>\n",
       "      <td>Science</td>\n",
       "      <td>77.48</td>\n",
       "      <td>Sci&amp;Tech</td>\n",
       "      <td>Yes</td>\n",
       "      <td>86.5</td>\n",
       "      <td>Mkt&amp;Fin</td>\n",
       "      <td>66.28</td>\n",
       "      <td>200000.000000</td>\n",
       "    </tr>\n",
       "    <tr>\n",
       "      <th>2</th>\n",
       "      <td>M</td>\n",
       "      <td>65.00</td>\n",
       "      <td>Central</td>\n",
       "      <td>68.00</td>\n",
       "      <td>Central</td>\n",
       "      <td>Arts</td>\n",
       "      <td>64.00</td>\n",
       "      <td>Comm&amp;Mgmt</td>\n",
       "      <td>No</td>\n",
       "      <td>75.0</td>\n",
       "      <td>Mkt&amp;Fin</td>\n",
       "      <td>57.80</td>\n",
       "      <td>250000.000000</td>\n",
       "    </tr>\n",
       "    <tr>\n",
       "      <th>3</th>\n",
       "      <td>M</td>\n",
       "      <td>56.00</td>\n",
       "      <td>Central</td>\n",
       "      <td>52.00</td>\n",
       "      <td>Central</td>\n",
       "      <td>Science</td>\n",
       "      <td>52.00</td>\n",
       "      <td>Sci&amp;Tech</td>\n",
       "      <td>No</td>\n",
       "      <td>66.0</td>\n",
       "      <td>Mkt&amp;HR</td>\n",
       "      <td>59.43</td>\n",
       "      <td>288655.405405</td>\n",
       "    </tr>\n",
       "    <tr>\n",
       "      <th>4</th>\n",
       "      <td>M</td>\n",
       "      <td>85.80</td>\n",
       "      <td>Central</td>\n",
       "      <td>73.60</td>\n",
       "      <td>Central</td>\n",
       "      <td>Commerce</td>\n",
       "      <td>73.30</td>\n",
       "      <td>Comm&amp;Mgmt</td>\n",
       "      <td>No</td>\n",
       "      <td>96.8</td>\n",
       "      <td>Mkt&amp;Fin</td>\n",
       "      <td>55.50</td>\n",
       "      <td>425000.000000</td>\n",
       "    </tr>\n",
       "  </tbody>\n",
       "</table>\n",
       "</div>"
      ],
      "text/plain": [
       "  gender  ssc_p    ssc_b  hsc_p    hsc_b     hsc_s  degree_p   degree_t  \\\n",
       "0      M  67.00   Others  91.00   Others  Commerce     58.00   Sci&Tech   \n",
       "1      M  79.33  Central  78.33   Others   Science     77.48   Sci&Tech   \n",
       "2      M  65.00  Central  68.00  Central      Arts     64.00  Comm&Mgmt   \n",
       "3      M  56.00  Central  52.00  Central   Science     52.00   Sci&Tech   \n",
       "4      M  85.80  Central  73.60  Central  Commerce     73.30  Comm&Mgmt   \n",
       "\n",
       "  workex  etest_p specialisation  mba_p         salary  \n",
       "0     No     55.0         Mkt&HR  58.80  270000.000000  \n",
       "1    Yes     86.5        Mkt&Fin  66.28  200000.000000  \n",
       "2     No     75.0        Mkt&Fin  57.80  250000.000000  \n",
       "3     No     66.0         Mkt&HR  59.43  288655.405405  \n",
       "4     No     96.8        Mkt&Fin  55.50  425000.000000  "
      ]
     },
     "execution_count": 137,
     "metadata": {},
     "output_type": "execute_result"
    }
   ],
   "source": [
    "data=pd.read_csv('Placement.csv')\n",
    "data=data.drop(['sl_no','status'],axis=1)\n",
    "mean=data['salary'].mean()\n",
    "data['salary'].fillna(mean,inplace=True)\n",
    "data.head()"
   ]
  },
  {
   "cell_type": "code",
   "execution_count": 138,
   "metadata": {},
   "outputs": [
    {
     "data": {
      "text/plain": [
       "<matplotlib.collections.PathCollection at 0x230bad21188>"
      ]
     },
     "execution_count": 138,
     "metadata": {},
     "output_type": "execute_result"
    },
    {
     "data": {
      "image/png": "[encoded data removed]",
      "text/plain": [
       "<Figure size 432x288 with 1 Axes>"
      ]
     },
     "metadata": {
      "needs_background": "light"
     },
     "output_type": "display_data"
    }
   ],
   "source": [
    "plt.scatter((data['ssc_p']/100.),(data['salary']/1e5))\n",
    "plt.scatter((data['ssc_p']/100.),np.log(data['salary']/1e5))"
   ]
  },
  {
   "cell_type": "code",
   "execution_count": 139,
   "metadata": {},
   "outputs": [],
   "source": [
    "num_columns=[ 'ssc_p', 'hsc_p', 'degree_p',\n",
    "       'etest_p', 'mba_p']\n",
    "cat_columns=['gender', 'ssc_b', 'hsc_b','Arts', 'Commerce', 'Comm&Mgmt', 'Sci&Tech', 'workex', 'specialisation']"
   ]
  },
  {
   "cell_type": "code",
   "execution_count": 140,
   "metadata": {},
   "outputs": [],
   "source": [
    "data['salary']=data['salary'].apply(lambda x: np.log(x/1e5))\n",
    "data[num_columns]=data[num_columns].apply(lambda x: x/100.)"
   ]
  },
  {
   "cell_type": "code",
   "execution_count": 141,
   "metadata": {},
   "outputs": [],
   "source": [
    "data['gender']=data['gender'].map({'M':0,'F':1})\n",
    "data['ssc_b']=data['ssc_b'].map({'Others':0,'Central':1})\n",
    "data['hsc_b']=data['hsc_b'].map({'Others':0,'Central':1})\n",
    "data['workex']=data['workex'].map({'Yes':0,'No':1})\n",
    "data['specialisation']=data['specialisation'].map({'Mkt&HR':0,'Mkt&Fin':1})\n",
    "dummy_1=data['hsc_s'].str.get_dummies().drop(['Science'],axis=1)\n",
    "dummy_2=data['degree_t'].str.get_dummies().drop(['Others'],axis=1)\n",
    "data=data.drop(['hsc_s','degree_t'],axis=1)\n",
    "data=pd.concat([data,dummy_1,dummy_2],axis=1)\n",
    "data=data[num_columns+cat_columns+['salary']]"
   ]
  },
  {
   "cell_type": "code",
   "execution_count": 142,
   "metadata": {},
   "outputs": [
    {
     "data": {
      "text/html": [
       "<div>\n",
       "<style scoped>\n",
       "    .dataframe tbody tr th:only-of-type {\n",
       "        vertical-align: middle;\n",
       "    }\n",
       "\n",
       "    .dataframe tbody tr th {\n",
       "        vertical-align: top;\n",
       "    }\n",
       "\n",
       "    .dataframe thead th {\n",
       "        text-align: right;\n",
       "    }\n",
       "</style>\n",
       "<table border=\"1\" class=\"dataframe\">\n",
       "  <thead>\n",
       "    <tr style=\"text-align: right;\">\n",
       "      <th></th>\n",
       "      <th>ssc_p</th>\n",
       "      <th>hsc_p</th>\n",
       "      <th>degree_p</th>\n",
       "      <th>etest_p</th>\n",
       "      <th>mba_p</th>\n",
       "      <th>gender</th>\n",
       "      <th>ssc_b</th>\n",
       "      <th>hsc_b</th>\n",
       "      <th>Arts</th>\n",
       "      <th>Commerce</th>\n",
       "      <th>Comm&amp;Mgmt</th>\n",
       "      <th>Sci&amp;Tech</th>\n",
       "      <th>workex</th>\n",
       "      <th>specialisation</th>\n",
       "      <th>salary</th>\n",
       "    </tr>\n",
       "  </thead>\n",
       "  <tbody>\n",
       "    <tr>\n",
       "      <th>0</th>\n",
       "      <td>0.6700</td>\n",
       "      <td>0.9100</td>\n",
       "      <td>0.5800</td>\n",
       "      <td>0.550</td>\n",
       "      <td>0.5880</td>\n",
       "      <td>0</td>\n",
       "      <td>0</td>\n",
       "      <td>0</td>\n",
       "      <td>0</td>\n",
       "      <td>1</td>\n",
       "      <td>0</td>\n",
       "      <td>1</td>\n",
       "      <td>1</td>\n",
       "      <td>0</td>\n",
       "      <td>0.993252</td>\n",
       "    </tr>\n",
       "    <tr>\n",
       "      <th>1</th>\n",
       "      <td>0.7933</td>\n",
       "      <td>0.7833</td>\n",
       "      <td>0.7748</td>\n",
       "      <td>0.865</td>\n",
       "      <td>0.6628</td>\n",
       "      <td>0</td>\n",
       "      <td>1</td>\n",
       "      <td>0</td>\n",
       "      <td>0</td>\n",
       "      <td>0</td>\n",
       "      <td>0</td>\n",
       "      <td>1</td>\n",
       "      <td>0</td>\n",
       "      <td>1</td>\n",
       "      <td>0.693147</td>\n",
       "    </tr>\n",
       "    <tr>\n",
       "      <th>2</th>\n",
       "      <td>0.6500</td>\n",
       "      <td>0.6800</td>\n",
       "      <td>0.6400</td>\n",
       "      <td>0.750</td>\n",
       "      <td>0.5780</td>\n",
       "      <td>0</td>\n",
       "      <td>1</td>\n",
       "      <td>1</td>\n",
       "      <td>1</td>\n",
       "      <td>0</td>\n",
       "      <td>1</td>\n",
       "      <td>0</td>\n",
       "      <td>1</td>\n",
       "      <td>1</td>\n",
       "      <td>0.916291</td>\n",
       "    </tr>\n",
       "    <tr>\n",
       "      <th>3</th>\n",
       "      <td>0.5600</td>\n",
       "      <td>0.5200</td>\n",
       "      <td>0.5200</td>\n",
       "      <td>0.660</td>\n",
       "      <td>0.5943</td>\n",
       "      <td>0</td>\n",
       "      <td>1</td>\n",
       "      <td>1</td>\n",
       "      <td>0</td>\n",
       "      <td>0</td>\n",
       "      <td>0</td>\n",
       "      <td>1</td>\n",
       "      <td>1</td>\n",
       "      <td>0</td>\n",
       "      <td>1.060063</td>\n",
       "    </tr>\n",
       "    <tr>\n",
       "      <th>4</th>\n",
       "      <td>0.8580</td>\n",
       "      <td>0.7360</td>\n",
       "      <td>0.7330</td>\n",
       "      <td>0.968</td>\n",
       "      <td>0.5550</td>\n",
       "      <td>0</td>\n",
       "      <td>1</td>\n",
       "      <td>1</td>\n",
       "      <td>0</td>\n",
       "      <td>1</td>\n",
       "      <td>1</td>\n",
       "      <td>0</td>\n",
       "      <td>1</td>\n",
       "      <td>1</td>\n",
       "      <td>1.446919</td>\n",
       "    </tr>\n",
       "  </tbody>\n",
       "</table>\n",
       "</div>"
      ],
      "text/plain": [
       "    ssc_p   hsc_p  degree_p  etest_p   mba_p  gender  ssc_b  hsc_b  Arts  \\\n",
       "0  0.6700  0.9100    0.5800    0.550  0.5880       0      0      0     0   \n",
       "1  0.7933  0.7833    0.7748    0.865  0.6628       0      1      0     0   \n",
       "2  0.6500  0.6800    0.6400    0.750  0.5780       0      1      1     1   \n",
       "3  0.5600  0.5200    0.5200    0.660  0.5943       0      1      1     0   \n",
       "4  0.8580  0.7360    0.7330    0.968  0.5550       0      1      1     0   \n",
       "\n",
       "   Commerce  Comm&Mgmt  Sci&Tech  workex  specialisation    salary  \n",
       "0         1          0         1       1               0  0.993252  \n",
       "1         0          0         1       0               1  0.693147  \n",
       "2         0          1         0       1               1  0.916291  \n",
       "3         0          0         1       1               0  1.060063  \n",
       "4         1          1         0       1               1  1.446919  "
      ]
     },
     "execution_count": 142,
     "metadata": {},
     "output_type": "execute_result"
    }
   ],
   "source": [
    "data.head()"
   ]
  },
  {
   "cell_type": "code",
   "execution_count": 143,
   "metadata": {},
   "outputs": [],
   "source": [
    "numerical=data[num_columns]\n",
    "categorical=data[cat_columns]\n",
    "targets=data['salary']\n",
    "mean=targets.mean()\n",
    "std=targets.std()"
   ]
  },
  {
   "cell_type": "code",
   "execution_count": 144,
   "metadata": {},
   "outputs": [
    {
     "data": {
      "text/html": [
       "<div>\n",
       "<style scoped>\n",
       "    .dataframe tbody tr th:only-of-type {\n",
       "        vertical-align: middle;\n",
       "    }\n",
       "\n",
       "    .dataframe tbody tr th {\n",
       "        vertical-align: top;\n",
       "    }\n",
       "\n",
       "    .dataframe thead th {\n",
       "        text-align: right;\n",
       "    }\n",
       "</style>\n",
       "<table border=\"1\" class=\"dataframe\">\n",
       "  <thead>\n",
       "    <tr style=\"text-align: right;\">\n",
       "      <th></th>\n",
       "      <th>ssc_p</th>\n",
       "      <th>hsc_p</th>\n",
       "      <th>degree_p</th>\n",
       "      <th>etest_p</th>\n",
       "      <th>mba_p</th>\n",
       "      <th>gender</th>\n",
       "      <th>ssc_b</th>\n",
       "      <th>hsc_b</th>\n",
       "      <th>Arts</th>\n",
       "      <th>Commerce</th>\n",
       "      <th>Comm&amp;Mgmt</th>\n",
       "      <th>Sci&amp;Tech</th>\n",
       "      <th>workex</th>\n",
       "      <th>specialisation</th>\n",
       "    </tr>\n",
       "  </thead>\n",
       "  <tbody>\n",
       "    <tr>\n",
       "      <th>0</th>\n",
       "      <td>-0.028087</td>\n",
       "      <td>2.268812</td>\n",
       "      <td>-1.140102</td>\n",
       "      <td>-1.291091</td>\n",
       "      <td>-0.597647</td>\n",
       "      <td>0</td>\n",
       "      <td>0</td>\n",
       "      <td>0</td>\n",
       "      <td>0</td>\n",
       "      <td>1</td>\n",
       "      <td>0</td>\n",
       "      <td>1</td>\n",
       "      <td>1</td>\n",
       "      <td>0</td>\n",
       "    </tr>\n",
       "    <tr>\n",
       "      <th>1</th>\n",
       "      <td>1.113369</td>\n",
       "      <td>1.103448</td>\n",
       "      <td>1.513267</td>\n",
       "      <td>1.087157</td>\n",
       "      <td>0.687620</td>\n",
       "      <td>0</td>\n",
       "      <td>1</td>\n",
       "      <td>0</td>\n",
       "      <td>0</td>\n",
       "      <td>0</td>\n",
       "      <td>0</td>\n",
       "      <td>1</td>\n",
       "      <td>0</td>\n",
       "      <td>1</td>\n",
       "    </tr>\n",
       "    <tr>\n",
       "      <th>2</th>\n",
       "      <td>-0.213238</td>\n",
       "      <td>0.153313</td>\n",
       "      <td>-0.322843</td>\n",
       "      <td>0.218908</td>\n",
       "      <td>-0.769474</td>\n",
       "      <td>0</td>\n",
       "      <td>1</td>\n",
       "      <td>1</td>\n",
       "      <td>1</td>\n",
       "      <td>0</td>\n",
       "      <td>1</td>\n",
       "      <td>0</td>\n",
       "      <td>1</td>\n",
       "      <td>1</td>\n",
       "    </tr>\n",
       "    <tr>\n",
       "      <th>3</th>\n",
       "      <td>-1.046417</td>\n",
       "      <td>-1.318339</td>\n",
       "      <td>-1.957362</td>\n",
       "      <td>-0.460592</td>\n",
       "      <td>-0.489396</td>\n",
       "      <td>0</td>\n",
       "      <td>1</td>\n",
       "      <td>1</td>\n",
       "      <td>0</td>\n",
       "      <td>0</td>\n",
       "      <td>0</td>\n",
       "      <td>1</td>\n",
       "      <td>1</td>\n",
       "      <td>0</td>\n",
       "    </tr>\n",
       "    <tr>\n",
       "      <th>4</th>\n",
       "      <td>1.712332</td>\n",
       "      <td>0.668391</td>\n",
       "      <td>0.943909</td>\n",
       "      <td>1.864806</td>\n",
       "      <td>-1.164676</td>\n",
       "      <td>0</td>\n",
       "      <td>1</td>\n",
       "      <td>1</td>\n",
       "      <td>0</td>\n",
       "      <td>1</td>\n",
       "      <td>1</td>\n",
       "      <td>0</td>\n",
       "      <td>1</td>\n",
       "      <td>1</td>\n",
       "    </tr>\n",
       "  </tbody>\n",
       "</table>\n",
       "</div>"
      ],
      "text/plain": [
       "      ssc_p     hsc_p  degree_p   etest_p     mba_p  gender  ssc_b  hsc_b  \\\n",
       "0 -0.028087  2.268812 -1.140102 -1.291091 -0.597647       0      0      0   \n",
       "1  1.113369  1.103448  1.513267  1.087157  0.687620       0      1      0   \n",
       "2 -0.213238  0.153313 -0.322843  0.218908 -0.769474       0      1      1   \n",
       "3 -1.046417 -1.318339 -1.957362 -0.460592 -0.489396       0      1      1   \n",
       "4  1.712332  0.668391  0.943909  1.864806 -1.164676       0      1      1   \n",
       "\n",
       "   Arts  Commerce  Comm&Mgmt  Sci&Tech  workex  specialisation  \n",
       "0     0         1          0         1       1               0  \n",
       "1     0         0          0         1       0               1  \n",
       "2     1         0          1         0       1               1  \n",
       "3     0         0          0         1       1               0  \n",
       "4     0         1          1         0       1               1  "
      ]
     },
     "execution_count": 144,
     "metadata": {},
     "output_type": "execute_result"
    }
   ],
   "source": [
    "from sklearn.preprocessing import StandardScaler\n",
    "scaler=StandardScaler()\n",
    "numerical=scaler.fit_transform(numerical)\n",
    "targets=(targets-mean)/(std)\n",
    "numerical=pd.DataFrame(data=numerical,columns=num_columns)\n",
    "data=pd.concat([numerical,categorical],axis=1)\n",
    "data.head()"
   ]
  },
  {
   "cell_type": "code",
   "execution_count": 180,
   "metadata": {},
   "outputs": [
    {
     "data": {
      "text/plain": [
       "LinearRegression(copy_X=True, fit_intercept=True, n_jobs=None, normalize=False)"
      ]
     },
     "execution_count": 180,
     "metadata": {},
     "output_type": "execute_result"
    }
   ],
   "source": [
    "from sklearn.linear_model import LinearRegression\n",
    "reg=LinearRegression()\n",
    "reg.fit(data,targets)"
   ]
  },
  {
   "cell_type": "code",
   "execution_count": 181,
   "metadata": {},
   "outputs": [
    {
     "data": {
      "text/plain": [
       "0.1310281492502748"
      ]
     },
     "execution_count": 181,
     "metadata": {},
     "output_type": "execute_result"
    }
   ],
   "source": [
    "reg.intercept_"
   ]
  },
  {
   "cell_type": "code",
   "execution_count": 182,
   "metadata": {},
   "outputs": [
    {
     "name": "stdout",
     "output_type": "stream",
     "text": [
      "0.13543888630365986\n",
      "0.9276528980249196\n",
      "0.0930584395538393\n"
     ]
    }
   ],
   "source": [
    "from sklearn.metrics import r2_score,mean_squared_error\n",
    "predictions=reg.predict(data)\n",
    "print(r2_score(targets,predictions))\n",
    "print(np.sqrt(mean_squared_error(targets,predictions)))\n",
    "print(adjusted_r2(r2_score(targets,predictions),215,10))"
   ]
  },
  {
   "cell_type": "code",
   "execution_count": 183,
   "metadata": {},
   "outputs": [
    {
     "data": {
      "text/plain": [
       "(-2.0, 6.0)"
      ]
     },
     "execution_count": 183,
     "metadata": {},
     "output_type": "execute_result"
    },
    {
     "data": {
      "image/png": "[encoded data removed]",
      "text/plain": [
       "<Figure size 432x288 with 1 Axes>"
      ]
     },
     "metadata": {
      "needs_background": "light"
     },
     "output_type": "display_data"
    }
   ],
   "source": [
    "plt.scatter(targets,predictions)\n",
    "plt.ylim(-2,6)"
   ]
  },
  {
   "cell_type": "code",
   "execution_count": 184,
   "metadata": {},
   "outputs": [
    {
     "data": {
      "text/plain": [
       "(array([ 2.,  5., 13., 25., 41., 53., 43.,  9., 10.,  3.,  4.,  3.,  1.,\n",
       "         0.,  0.,  0.,  2.,  0.,  0.,  1.]),\n",
       " array([-2.13082907, -1.75121019, -1.37159131, -0.99197243, -0.61235354,\n",
       "        -0.23273466,  0.14688422,  0.5265031 ,  0.90612198,  1.28574086,\n",
       "         1.66535975,  2.04497863,  2.42459751,  2.80421639,  3.18383527,\n",
       "         3.56345415,  3.94307303,  4.32269192,  4.7023108 ,  5.08192968,\n",
       "         5.46154856]),\n",
       " <a list of 20 Patch objects>)"
      ]
     },
     "execution_count": 184,
     "metadata": {},
     "output_type": "execute_result"
    },
    {
     "data": {
      "image/png": "[encoded data removed]",
      "text/plain": [
       "<Figure size 432x288 with 1 Axes>"
      ]
     },
     "metadata": {
      "needs_background": "light"
     },
     "output_type": "display_data"
    }
   ],
   "source": [
    "errors=targets-predictions\n",
    "plt.hist(errors,bins=20)"
   ]
  },
  {
   "cell_type": "code",
   "execution_count": 185,
   "metadata": {},
   "outputs": [
    {
     "data": {
      "text/html": [
       "<div>\n",
       "<style scoped>\n",
       "    .dataframe tbody tr th:only-of-type {\n",
       "        vertical-align: middle;\n",
       "    }\n",
       "\n",
       "    .dataframe tbody tr th {\n",
       "        vertical-align: top;\n",
       "    }\n",
       "\n",
       "    .dataframe thead th {\n",
       "        text-align: right;\n",
       "    }\n",
       "</style>\n",
       "<table border=\"1\" class=\"dataframe\">\n",
       "  <thead>\n",
       "    <tr style=\"text-align: right;\">\n",
       "      <th></th>\n",
       "      <th>Weights</th>\n",
       "    </tr>\n",
       "  </thead>\n",
       "  <tbody>\n",
       "    <tr>\n",
       "      <th>ssc_p</th>\n",
       "      <td>-0.109602</td>\n",
       "    </tr>\n",
       "    <tr>\n",
       "      <th>degree_p</th>\n",
       "      <td>-0.115395</td>\n",
       "    </tr>\n",
       "    <tr>\n",
       "      <th>etest_p</th>\n",
       "      <td>0.134524</td>\n",
       "    </tr>\n",
       "    <tr>\n",
       "      <th>mba_p</th>\n",
       "      <td>0.227529</td>\n",
       "    </tr>\n",
       "    <tr>\n",
       "      <th>gender</th>\n",
       "      <td>-0.328867</td>\n",
       "    </tr>\n",
       "    <tr>\n",
       "      <th>Arts</th>\n",
       "      <td>-0.253337</td>\n",
       "    </tr>\n",
       "    <tr>\n",
       "      <th>Commerce</th>\n",
       "      <td>0.217403</td>\n",
       "    </tr>\n",
       "    <tr>\n",
       "      <th>Comm&amp;Mgmt</th>\n",
       "      <td>-0.370830</td>\n",
       "    </tr>\n",
       "    <tr>\n",
       "      <th>Sci&amp;Tech</th>\n",
       "      <td>0.159065</td>\n",
       "    </tr>\n",
       "    <tr>\n",
       "      <th>specialisation</th>\n",
       "      <td>0.161904</td>\n",
       "    </tr>\n",
       "  </tbody>\n",
       "</table>\n",
       "</div>"
      ],
      "text/plain": [
       "                 Weights\n",
       "ssc_p          -0.109602\n",
       "degree_p       -0.115395\n",
       "etest_p         0.134524\n",
       "mba_p           0.227529\n",
       "gender         -0.328867\n",
       "Arts           -0.253337\n",
       "Commerce        0.217403\n",
       "Comm&Mgmt      -0.370830\n",
       "Sci&Tech        0.159065\n",
       "specialisation  0.161904"
      ]
     },
     "execution_count": 185,
     "metadata": {},
     "output_type": "execute_result"
    }
   ],
   "source": [
    "weights=pd.DataFrame(data=reg.coef_,index=list(data.columns),columns=['Weights'])\n",
    "weights"
   ]
  },
  {
   "cell_type": "code",
   "execution_count": 103,
   "metadata": {},
   "outputs": [
    {
     "data": {
      "text/html": [
       "<div>\n",
       "<style scoped>\n",
       "    .dataframe tbody tr th:only-of-type {\n",
       "        vertical-align: middle;\n",
       "    }\n",
       "\n",
       "    .dataframe tbody tr th {\n",
       "        vertical-align: top;\n",
       "    }\n",
       "\n",
       "    .dataframe thead th {\n",
       "        text-align: right;\n",
       "    }\n",
       "</style>\n",
       "<table border=\"1\" class=\"dataframe\">\n",
       "  <thead>\n",
       "    <tr style=\"text-align: right;\">\n",
       "      <th></th>\n",
       "      <th>ssc_p</th>\n",
       "      <th>degree_p</th>\n",
       "      <th>etest_p</th>\n",
       "      <th>mba_p</th>\n",
       "      <th>gender</th>\n",
       "      <th>ssc_b</th>\n",
       "      <th>hsc_b</th>\n",
       "      <th>Arts</th>\n",
       "      <th>Commerce</th>\n",
       "      <th>Comm&amp;Mgmt</th>\n",
       "      <th>Sci&amp;Tech</th>\n",
       "      <th>workex</th>\n",
       "      <th>specialisation</th>\n",
       "    </tr>\n",
       "  </thead>\n",
       "  <tbody>\n",
       "    <tr>\n",
       "      <th>fval</th>\n",
       "      <td>0.000026</td>\n",
       "      <td>0.014015</td>\n",
       "      <td>0.223435</td>\n",
       "      <td>0.181677</td>\n",
       "      <td>9.743795e+01</td>\n",
       "      <td>2.259920e+02</td>\n",
       "      <td>1.275920e+02</td>\n",
       "      <td>9.794587</td>\n",
       "      <td>2.153575e+02</td>\n",
       "      <td>3.495501e+02</td>\n",
       "      <td>8.894096e+01</td>\n",
       "      <td>3.444597e+02</td>\n",
       "      <td>2.675905e+02</td>\n",
       "    </tr>\n",
       "    <tr>\n",
       "      <th>pval</th>\n",
       "      <td>0.995960</td>\n",
       "      <td>0.905875</td>\n",
       "      <td>0.636917</td>\n",
       "      <td>0.670364</td>\n",
       "      <td>3.529858e-19</td>\n",
       "      <td>2.424916e-35</td>\n",
       "      <td>1.643291e-23</td>\n",
       "      <td>0.001994</td>\n",
       "      <td>3.362946e-34</td>\n",
       "      <td>6.969566e-47</td>\n",
       "      <td>7.024427e-18</td>\n",
       "      <td>1.845281e-46</td>\n",
       "      <td>1.479011e-39</td>\n",
       "    </tr>\n",
       "  </tbody>\n",
       "</table>\n",
       "</div>"
      ],
      "text/plain": [
       "         ssc_p  degree_p   etest_p     mba_p        gender         ssc_b  \\\n",
       "fval  0.000026  0.014015  0.223435  0.181677  9.743795e+01  2.259920e+02   \n",
       "pval  0.995960  0.905875  0.636917  0.670364  3.529858e-19  2.424916e-35   \n",
       "\n",
       "             hsc_b      Arts      Commerce     Comm&Mgmt      Sci&Tech  \\\n",
       "fval  1.275920e+02  9.794587  2.153575e+02  3.495501e+02  8.894096e+01   \n",
       "pval  1.643291e-23  0.001994  3.362946e-34  6.969566e-47  7.024427e-18   \n",
       "\n",
       "            workex  specialisation  \n",
       "fval  3.444597e+02    2.675905e+02  \n",
       "pval  1.845281e-46    1.479011e-39  "
      ]
     },
     "execution_count": 103,
     "metadata": {},
     "output_type": "execute_result"
    }
   ],
   "source": [
    "from sklearn.feature_selection import f_regression\n",
    "fval,pval=f_regression(data,targets,center=False)\n",
    "f_select=pd.DataFrame(data=[fval,pval],index=['fval','pval'],columns=list(data.columns))\n",
    "f_select"
   ]
  },
  {
   "cell_type": "code",
   "execution_count": 178,
   "metadata": {},
   "outputs": [],
   "source": [
    "data=data.drop(['workex'],axis=1)"
   ]
  },
  {
   "cell_type": "code",
   "execution_count": 179,
   "metadata": {},
   "outputs": [
    {
     "data": {
      "text/html": [
       "<div>\n",
       "<style scoped>\n",
       "    .dataframe tbody tr th:only-of-type {\n",
       "        vertical-align: middle;\n",
       "    }\n",
       "\n",
       "    .dataframe tbody tr th {\n",
       "        vertical-align: top;\n",
       "    }\n",
       "\n",
       "    .dataframe thead th {\n",
       "        text-align: right;\n",
       "    }\n",
       "</style>\n",
       "<table border=\"1\" class=\"dataframe\">\n",
       "  <thead>\n",
       "    <tr style=\"text-align: right;\">\n",
       "      <th></th>\n",
       "      <th>ssc_p</th>\n",
       "      <th>degree_p</th>\n",
       "      <th>etest_p</th>\n",
       "      <th>mba_p</th>\n",
       "      <th>gender</th>\n",
       "      <th>Arts</th>\n",
       "      <th>Commerce</th>\n",
       "      <th>Comm&amp;Mgmt</th>\n",
       "      <th>Sci&amp;Tech</th>\n",
       "      <th>specialisation</th>\n",
       "    </tr>\n",
       "  </thead>\n",
       "  <tbody>\n",
       "    <tr>\n",
       "      <th>0</th>\n",
       "      <td>-0.028087</td>\n",
       "      <td>-1.140102</td>\n",
       "      <td>-1.291091</td>\n",
       "      <td>-0.597647</td>\n",
       "      <td>0</td>\n",
       "      <td>0</td>\n",
       "      <td>1</td>\n",
       "      <td>0</td>\n",
       "      <td>1</td>\n",
       "      <td>0</td>\n",
       "    </tr>\n",
       "    <tr>\n",
       "      <th>1</th>\n",
       "      <td>1.113369</td>\n",
       "      <td>1.513267</td>\n",
       "      <td>1.087157</td>\n",
       "      <td>0.687620</td>\n",
       "      <td>0</td>\n",
       "      <td>0</td>\n",
       "      <td>0</td>\n",
       "      <td>0</td>\n",
       "      <td>1</td>\n",
       "      <td>1</td>\n",
       "    </tr>\n",
       "    <tr>\n",
       "      <th>2</th>\n",
       "      <td>-0.213238</td>\n",
       "      <td>-0.322843</td>\n",
       "      <td>0.218908</td>\n",
       "      <td>-0.769474</td>\n",
       "      <td>0</td>\n",
       "      <td>1</td>\n",
       "      <td>0</td>\n",
       "      <td>1</td>\n",
       "      <td>0</td>\n",
       "      <td>1</td>\n",
       "    </tr>\n",
       "    <tr>\n",
       "      <th>3</th>\n",
       "      <td>-1.046417</td>\n",
       "      <td>-1.957362</td>\n",
       "      <td>-0.460592</td>\n",
       "      <td>-0.489396</td>\n",
       "      <td>0</td>\n",
       "      <td>0</td>\n",
       "      <td>0</td>\n",
       "      <td>0</td>\n",
       "      <td>1</td>\n",
       "      <td>0</td>\n",
       "    </tr>\n",
       "    <tr>\n",
       "      <th>4</th>\n",
       "      <td>1.712332</td>\n",
       "      <td>0.943909</td>\n",
       "      <td>1.864806</td>\n",
       "      <td>-1.164676</td>\n",
       "      <td>0</td>\n",
       "      <td>0</td>\n",
       "      <td>1</td>\n",
       "      <td>1</td>\n",
       "      <td>0</td>\n",
       "      <td>1</td>\n",
       "    </tr>\n",
       "  </tbody>\n",
       "</table>\n",
       "</div>"
      ],
      "text/plain": [
       "      ssc_p  degree_p   etest_p     mba_p  gender  Arts  Commerce  Comm&Mgmt  \\\n",
       "0 -0.028087 -1.140102 -1.291091 -0.597647       0     0         1          0   \n",
       "1  1.113369  1.513267  1.087157  0.687620       0     0         0          0   \n",
       "2 -0.213238 -0.322843  0.218908 -0.769474       0     1         0          1   \n",
       "3 -1.046417 -1.957362 -0.460592 -0.489396       0     0         0          0   \n",
       "4  1.712332  0.943909  1.864806 -1.164676       0     0         1          1   \n",
       "\n",
       "   Sci&Tech  specialisation  \n",
       "0         1               0  \n",
       "1         1               1  \n",
       "2         0               1  \n",
       "3         1               0  \n",
       "4         0               1  "
      ]
     },
     "execution_count": 179,
     "metadata": {},
     "output_type": "execute_result"
    }
   ],
   "source": [
    "data.head()"
   ]
  },
  {
   "cell_type": "code",
   "execution_count": null,
   "metadata": {},
   "outputs": [],
   "source": []
  },
  {
   "cell_type": "code",
   "execution_count": null,
   "metadata": {},
   "outputs": [],
   "source": []
  },
  {
   "cell_type": "code",
   "execution_count": null,
   "metadata": {},
   "outputs": [],
   "source": []
  },
  {
   "cell_type": "code",
   "execution_count": 56,
   "metadata": {},
   "outputs": [],
   "source": [
    "def adjusted_r2(score,n,p):\n",
    "    return 1-(((1-score)*(n-1))/(n-p-1))"
   ]
  },
  {
   "cell_type": "code",
   "execution_count": 104,
   "metadata": {},
   "outputs": [
    {
     "data": {
      "text/plain": [
       "count    215.000000\n",
       "mean       1.035776\n",
       "std        0.204826\n",
       "min        0.693147\n",
       "25%        0.916291\n",
       "50%        1.060063\n",
       "75%        1.060063\n",
       "max        2.240710\n",
       "Name: salary, dtype: float64"
      ]
     },
     "execution_count": 104,
     "metadata": {},
     "output_type": "execute_result"
    }
   ],
   "source": [
    "targets.describe()"
   ]
  },
  {
   "cell_type": "code",
   "execution_count": null,
   "metadata": {},
   "outputs": [],
   "source": []
  }
 ],
 "metadata": {
  "kernelspec": {
   "display_name": "Python 3",
   "language": "python",
   "name": "python3"
  },
  "language_info": {
   "codemirror_mode": {
    "name": "ipython",
    "version": 3
   },
   "file_extension": ".py",
   "mimetype": "text/x-python",
   "name": "python",
   "nbconvert_exporter": "python",
   "pygments_lexer": "ipython3",
   "version": "3.7.4"
  }
 },
 "nbformat": 4,
 "nbformat_minor": 2
}
